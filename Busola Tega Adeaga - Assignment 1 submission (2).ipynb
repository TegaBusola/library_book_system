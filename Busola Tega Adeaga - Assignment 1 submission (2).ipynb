{
 "cells": [
  {
   "cell_type": "markdown",
   "id": "bd6dcc85",
   "metadata": {},
   "source": [
    "All python libraries that will be used are imported before beginning the assignment, in order to help with efficiency and run time of each command."
   ]
  },
  {
   "cell_type": "code",
   "execution_count": 1,
   "id": "4ec6678c",
   "metadata": {},
   "outputs": [],
   "source": [
    "import csv"
   ]
  },
  {
   "cell_type": "markdown",
   "id": "7337ef52",
   "metadata": {},
   "source": [
    "# Task 1\n"
   ]
  },
  {
   "cell_type": "markdown",
   "id": "eea397b7",
   "metadata": {},
   "source": [
    "1) The most loaned book."
   ]
  },
  {
   "cell_type": "code",
   "execution_count": 2,
   "id": "766217e3",
   "metadata": {},
   "outputs": [
    {
     "name": "stdout",
     "output_type": "stream",
     "text": [
      "The most borrowed books ID's are: {'13': 1, '138': 1, '140': 1, '130': 1, '128': 1, '134': 1, '137': 1, '136': 1, '131': 1, '122': 1, '132': 1, '124': 1, '133': 1, '125': 1, '139': 1, '129': 1, '135': 1, '123': 1, '126': 1, '127': 1, '121': 1, '35': 2, '57': 2, '59': 2, '67': 2, '108': 2, '40': 3, '71': 3, '113': 3, '118': 3, '4': 4, '18': 4, '74': 4, '86': 4, '42': 5, '44': 5, '50': 5, '77': 5, '73': 6, '101': 6, '29': 7, '46': 7, '52': 7, '69': 7, '70': 7, '96': 7, '97': 7, '3': 8, '28': 8, '68': 8, '9': 9, '34': 10, '25': 11, '26': 11, '45': 11, '64': 11, '81': 12, '82': 12, '95': 12, '102': 12, '19': 13, '23': 14, '8': 15, '33': 15, '80': 15, '115': 15, '10': 16, '55': 16, '90': 16, '75': 17, '76': 17, '84': 17, '109': 17, '6': 18, '14': 18, '16': 18, '17': 18, '27': 18, '65': 19, '110': 19, '117': 19, '11': 20, '15': 20, '24': 20, '30': 20, '41': 20, '49': 20, '53': 20, '91': 20, '93': 20, '2': 21, '21': 21, '22': 21, '32': 21, '60': 21, '62': 21, '120': 21, '1': 22, '5': 22, '7': 22, '12': 22, '31': 22, '99': 22, '100': 22, '111': 22, '116': 22, '36': 23, '54': 23, '58': 23, '63': 23, '79': 23, '87': 23, '88': 23, '89': 23, '103': 23, '104': 23, '106': 23, '107': 23, '20': 24, '37': 24, '39': 24, '47': 24, '56': 24, '78': 24, '83': 24, '92': 24, '98': 24, '112': 24, '114': 24, '43': 25, '48': 25, '51': 25, '66': 25, '94': 25, '105': 25, '61': 27, '72': 27, '38': 28, '85': 28, '119': 28}\n"
     ]
    }
   ],
   "source": [
    "books = {}\n",
    "bookloans_counts = {}\n",
    "\n",
    "# Open the books file and read the book_id into a dict\n",
    "with open('books.csv', 'r', encoding='utf-8-sig') as csv_books_file:\n",
    "    books_reader = csv.reader(csv_books_file)\n",
    "    next(books_reader)  # skip the header row\n",
    "    for row in books_reader:\n",
    "        books[row[0]] = row\n",
    "        bookloans_counts[row[0]] = 0\n",
    "\n",
    "#Step 2: Open the bookloans file and read the id column into the dict\n",
    "with open('bookloans.csv', 'r', encoding='utf-8-sig') as csv_bookloans_file:\n",
    "    loans_reader = csv.reader(csv_bookloans_file)\n",
    "    for row in loans_reader:\n",
    "        book_number = row[0]\n",
    "\n",
    "        # if the book id matches in both books.csv and bookloans.csv then do a manual count \n",
    "        if book_number in books:\n",
    "            bookloans_counts[book_number] +=1\n",
    "        else:\n",
    "            bookloans_counts[book_number] = 1\n",
    "        \n",
    "#print(books)\n",
    "\n",
    "\n",
    "# Sort the bookloans_counts dictionary by values in descending order\n",
    "sorted_book_counts = sorted(bookloans_counts.items(), key=lambda x: x[1], reverse=False)\n",
    "\n",
    "\n",
    "# Get the most popular book\n",
    "most_popular_book = sorted_book_counts[0][0]\n",
    "\n",
    "print(\"The most borrowed books ID's are:\", dict(sorted_book_counts)) "
   ]
  },
  {
   "cell_type": "markdown",
   "id": "07771a6e",
   "metadata": {},
   "source": [
    "2) Most loaned book with the author and titles added to output."
   ]
  },
  {
   "cell_type": "code",
   "execution_count": 3,
   "id": "c0bb68fa",
   "metadata": {},
   "outputs": [
    {
     "data": {
      "text/plain": [
       "[['13', 'Birth Of A Theorem', 'Cedric Villani', 1],\n",
       " ['35', \"Surely You'Re Joking Mr Feynman\", 'Richard Feynman', 2],\n",
       " ['57', 'Textbook Of Economic Theory', 'Alfred Stonier', 2],\n",
       " ['59', 'Learning Opencv', 'Gary Bradsky', 2],\n",
       " ['67', 'The Argumentative Indian', 'Amartya Sen', 2],\n",
       " ['108', 'Ashenden Of The British Agent', 'William S Maugham', 2],\n",
       " ['40', 'Return Of The Primitive', 'Ayn Rand', 3],\n",
       " ['71', \"All The President'S Men\", 'Bob Woodward', 3],\n",
       " ['113', 'History Of Western Philosophy', 'Bertrand Russell', 3],\n",
       " ['118', 'One', 'Richard Bach', 3],\n",
       " ['4', 'Superfreakonomics', 'Stephen Dubner', 4],\n",
       " ['18', 'Data Mining Handbook', 'Robert Nisbet', 4],\n",
       " ['74', 'Ahe Manohar Tari', 'Sunita Deshpande', 4],\n",
       " ['86', 'O Jerusalem!', 'Dominique Lapierre', 4],\n",
       " ['42', 'A Russian Journal', 'John Steinbeck', 5],\n",
       " ['44', 'Freakonomics', 'Stephen Dubner', 5],\n",
       " ['50', 'The Moon Is Down', 'John Steinbeck', 5],\n",
       " ['77', 'Radiowaril Bhashane & Shrutika', 'P L Deshpande', 5],\n",
       " ['73', 'Scoop!', 'Kuldip Nayar', 6],\n",
       " ['101', 'Down And Out In Paris & London', 'George Orwell', 6],\n",
       " ['29', 'The Complete Sherlock Holmes Vol I', 'Arthur Conan Doyle', 7],\n",
       " ['46', 'The Story Of Philosophy', 'Will Durant', 7],\n",
       " ['52', 'In A Free State', 'V. S. Naipaul', 7],\n",
       " ['69', 'The Idea Of Justice', 'Amartya Sen', 7],\n",
       " ['70', 'A Raisin In The Sun', 'Lorraine Hansberry', 7],\n",
       " ['96', 'Electric Universe', 'David Bodanis', 7],\n",
       " ['97', 'The Hunchback Of Notre Dame', 'Victor Hugo', 7],\n",
       " ['3', 'God Created The Integers', 'Stephen Hawking', 8],\n",
       " ['28', 'The Outsider', 'Albert Camus', 8],\n",
       " ['68', 'Sea Of Poppies', 'Amitav Ghosh', 8],\n",
       " ['9', 'Image Processing & Mathematical Morphology', 'Frank Shih', 9],\n",
       " ['34', 'The Tao Of Physics', 'Fritjof Capra', 10],\n",
       " ['25', 'Python For Data Analysis', 'Wes Mckinney', 11],\n",
       " ['26', 'Introduction To Algorithms', 'Thomas Cormen', 11],\n",
       " ['45', 'The Hidden Connections', 'Fritjof Capra', 11],\n",
       " ['64', 'The Amulet Of Samarkand', 'Jonathan Stroud', 11],\n",
       " ['81', 'Beyond Degrees', 'Unknown', 12],\n",
       " ['82', 'Manasa', 'V P Kale', 12],\n",
       " ['95', 'New Markets & Other Essays', 'Peter Drucker', 12],\n",
       " ['102', 'Identity & Violence', 'Amartya Sen', 12],\n",
       " ['19', 'The New Machiavelli', 'H. G. Wells', 13],\n",
       " ['23', 'Machine Learning For Hackers', 'Drew Conway', 14],\n",
       " ['8', \"The Drunkard'S Walk\", 'Leonard Mlodinow', 15],\n",
       " ['33', 'Mein Kampf', 'Adolf Hitler', 15],\n",
       " ['80', 'Maqta-E-Ghalib', 'Sanjay Garg', 15],\n",
       " ['115', 'Rationality & Freedom', 'Amartya Sen', 15],\n",
       " ['10', 'How To Think Like Sherlock Holmes', 'Maria Konnikova', 16],\n",
       " ['55', 'Dylan On Dylan', 'Bob Dylan', 16],\n",
       " ['90', 'On Education', 'Bertrand Russell', 16],\n",
       " ['75', 'The Last Mughal', 'William Dalrymple', 17],\n",
       " ['76', 'Vol 39 No. 1 Social Choice & Welfare', 'Various', 17],\n",
       " ['84', \"The World'S Greatest Trials\", 'Unknown', 17],\n",
       " ['109', 'Zen & The Art Of Motorcycle Maintenance', 'Robert Pirsig', 17],\n",
       " ['6', 'The Nature Of Statistical Learning Theory', 'Vladimir Vapnik', 18],\n",
       " ['14',\n",
       "  'Structure & Interpretation Of Computer Programs',\n",
       "  'Gerald Sussman',\n",
       "  18],\n",
       " ['16', 'The Trial', 'Frank Kafka', 18],\n",
       " ['17', \"Statistical Decision Theory'\", 'John Pratt', 18],\n",
       " ['27', 'The Beautiful And The Damned', 'Siddhartha Deb', 18],\n",
       " ['65', 'Crime And Punishment', 'Fyodor Dostoevsky', 19],\n",
       " ['110', 'The Great War For Civilization', 'Robert Fisk', 19],\n",
       " ['117', 'Uncommon Wisdom', 'Fritjof Capra', 19],\n",
       " ['11', 'Data Scientists At Work', 'Sebastian Gutierrez', 20],\n",
       " ['15', 'The Age Of Wrath', 'Abraham Eraly', 20],\n",
       " ['24', 'The Signal And The Noise', 'Nate Silver', 20],\n",
       " ['30', 'The Complete Sherlock Holmes Vol Ii', 'Arthur Conan Doyle', 20],\n",
       " ['41', 'Jurassic Park', 'Michael Crichton', 20],\n",
       " ['49', 'Once There Was A War', 'John Steinbeck', 20],\n",
       " ['53', 'Catch 22', 'Joseph Heller', 20],\n",
       " ['91', 'Free Will', 'Sam Harris', 20],\n",
       " ['93', 'The Case Of The Lame Canary', 'Earle Stanley Gardner', 20],\n",
       " ['2', 'Data Smart', 'John Foreman', 21],\n",
       " ['21', 'Making Software', 'Andy Oram', 21],\n",
       " ['22', 'Vol I Analysis', 'Terence Tao', 21],\n",
       " ['32', 'The Pillars Of The Earth', 'Ken Follett', 21],\n",
       " ['60', 'Data Structures Using C & C++', 'Andrew Tanenbaum', 21],\n",
       " ['62', 'Principles Of Communication Systems', 'Schilling Taub', 21],\n",
       " ['120', 'To Sir With Love', 'Braithwaite', 21],\n",
       " ['1', 'Fundamentals Of Wavelets', 'Jaideva Goswami', 22],\n",
       " ['5', 'Orientalism', 'Edward Said', 22],\n",
       " ['7', 'Integration Of The Indian States', 'V P Menon', 22],\n",
       " ['12', 'Slaughterhouse Five', 'Kurt Vonnegut', 22],\n",
       " ['31', 'The Wealth Of Nations', 'Adam Smith', 22],\n",
       " ['99', 'The Age Of Discontuinity', 'Peter Drucker', 22],\n",
       " ['100', 'Doctor In The Nude', 'Richard Gordon', 22],\n",
       " ['111', 'We The Living', 'Ayn Rand', 22],\n",
       " ['116',\n",
       "  'Clash Of Civilizations And Remaking Of The World Order',\n",
       "  'Samuel Huntington',\n",
       "  22],\n",
       " ['36', 'A Farewell To Arms', 'Ernest Hemingway', 23],\n",
       " ['54', 'The Complete Mastermind', 'BBC', 23],\n",
       " ['58', 'Econometric Analysis', 'W. H. Greene', 23],\n",
       " ['63', 'Let Us C', 'Yashwant Kanetkar', 23],\n",
       " ['79', 'Aghal Paghal', 'P L Deshpande', 23],\n",
       " ['87', 'The City Of Joy', 'Dominique Lapierre', 23],\n",
       " ['88', 'Freedom At Midnight', 'Dominique Lapierre', 23],\n",
       " ['89', 'The Winter Of Our Discontent', 'John Steinbeck', 23],\n",
       " ['103', 'Beyond The Three Seas', 'William Dalrymple', 23],\n",
       " ['104', \"The World'S Greatest Short Stories\", 'Unknown', 23],\n",
       " ['106', \"Vol 3 Maugham'S Collected Short Stories\", 'William S Maugham', 23],\n",
       " ['107', 'The Phantom Of Manhattan', 'Frederick Forsyth', 23],\n",
       " ['20', 'Physics & Philosophy', 'Werner Heisenberg', 24],\n",
       " ['37', 'The Veteran', 'Frederick Forsyth', 24],\n",
       " ['39', 'The Last Lecture', 'Randy Pausch', 24],\n",
       " ['47', 'Asami Asami', 'P L Deshpande', 24],\n",
       " ['56', 'Soft Computing & Intelligent Systems', 'Madan Gupta', 24],\n",
       " ['78', 'Gun Gayin Awadi', 'P L Deshpande', 24],\n",
       " ['83', 'India From Midnight To Milennium', 'Shashi Tharoor', 24],\n",
       " ['92', 'Bookless In Baghdad', 'Shashi Tharoor', 24],\n",
       " ['98', 'Burning Bright', 'John Steinbeck', 24],\n",
       " ['112', 'The Artist And The Mathematician', 'Amir Aczel', 24],\n",
       " ['114', 'Selected Short Stories', 'Unknown', 24],\n",
       " ['43', 'Tales Of Mystery And Imagination', 'Edgar Allen Poe', 25],\n",
       " ['48', 'Journal Of A Novel', 'John Steinbeck', 25],\n",
       " ['51', 'The Brethren', 'John Grisham', 25],\n",
       " ['66', 'Angels & Demons', 'Dan Brown', 25],\n",
       " ['94', 'The Theory Of Everything', 'Stephen Hawking', 25],\n",
       " ['105', 'Talking Straight', 'Lee Iacoca', 25],\n",
       " ['61', 'A Modern Approach Computer Vision', 'David Forsyth', 27],\n",
       " ['72', 'A Prisoner Of Birth', 'Jeffery Archer', 27],\n",
       " ['38', 'False Impressions', 'Jeffery Archer', 28],\n",
       " ['85', 'The Great Indian Novel', 'Shashi Tharoor', 28],\n",
       " ['119', 'Karl Marx Biography', 'Unknown', 28]]"
      ]
     },
     "execution_count": 3,
     "metadata": {},
     "output_type": "execute_result"
    }
   ],
   "source": [
    "#Convert the above dict into a list and add the author and book title to the output\n",
    "books_title_author = []\n",
    "\n",
    "#opted to keep the code dry and reference the sorted_book_counts variable made available in the block of code above.\n",
    "for k,v in dict(sorted_book_counts).items():\n",
    "    #insert exception clause to remove the bookloans which are not found in books. \n",
    "    try:\n",
    "        #k stands for the dict key that is needed which is the id, title and author of the books\n",
    "        line = [books[k][0],books[k][1],books[k][2],v]\n",
    "        #add all key values to the new empty list.\n",
    "        books_title_author.append(line)    \n",
    "    except KeyError:\n",
    "       # print(\"book not found:\",k)\n",
    "        pass\n",
    "        \n",
    "books_title_author"
   ]
  },
  {
   "cell_type": "markdown",
   "id": "ea416773",
   "metadata": {},
   "source": [
    "----\n",
    "---"
   ]
  },
  {
   "cell_type": "markdown",
   "id": "d03f27f6",
   "metadata": {},
   "source": [
    "# Task 2"
   ]
  },
  {
   "cell_type": "markdown",
   "id": "ffb64c74",
   "metadata": {},
   "source": [
    "1) The most borrowed book based on genre."
   ]
  },
  {
   "cell_type": "code",
   "execution_count": 4,
   "id": "80d85aa9",
   "metadata": {},
   "outputs": [
    {
     "name": "stdout",
     "output_type": "stream",
     "text": [
      "Genre Counts: {'Fiction': 717, 'Non-fiction': 591, 'Tech': 396, 'Science': 153, 'Philosophy': 101}\n"
     ]
    }
   ],
   "source": [
    "#Create a new dict named book_genre in order to return the result of the most popular genre of books borrowed.\n",
    "books_genre = {}\n",
    "\n",
    "\n",
    "with open('bookloans.csv', 'r', encoding='utf-8-sig') as csv_bookloans_file:\n",
    "    loans_reader = csv.reader(csv_bookloans_file)\n",
    "    for row in loans_reader:\n",
    "        book_number = row[0]\n",
    "        \n",
    "        #insert exception clause to remove the bookloans which are not found in books.\n",
    "        try: \n",
    "            book = books[book_number]\n",
    "            #genre is row in books.csv. \n",
    "            if book[3] in books_genre:\n",
    "                #Add by 1 everytime the same genre appears, else leave as 1.\n",
    "                books_genre[book[3]] +=1\n",
    "            else:\n",
    "                books_genre[book[3]] = 1\n",
    "        except KeyError:\n",
    "            pass\n",
    "\n",
    "            \n",
    "# Sort the genre_counts dictionary by values in descending order\n",
    "sorted_genre_counts = sorted(books_genre.items(), key=lambda x: x[1], reverse=True)\n",
    "\n",
    "# Get the most popular genre\n",
    "most_popular_genre = sorted_genre_counts[0][0]\n",
    "\n",
    "#print(\"The most popular genre is:\", most_popular_genre)\n",
    "print(\"Genre Counts:\", dict(sorted_genre_counts)) #  a list of tuples, so get it back to dict "
   ]
  },
  {
   "cell_type": "markdown",
   "id": "203fea2c",
   "metadata": {},
   "source": [
    "2) The most borrowed book based on sub-genre."
   ]
  },
  {
   "cell_type": "code",
   "execution_count": 5,
   "id": "4464ebd1",
   "metadata": {},
   "outputs": [
    {
     "name": "stdout",
     "output_type": "stream",
     "text": [
      "Subgenre Counts: {'Classic': 362, 'Novel': 355, 'History': 298, 'Data Science': 150, 'Autobiography': 138, 'Economics': 129, 'Computer Science': 94, 'Signal Processing': 81, 'Mathematics': 69, 'Misc': 64, 'Physics': 55, 'Psychology': 36, 'Education': 28, 'Science': 24, 'Trivia': 23, 'Anthology': 19, 'Poetry': 15, 'Philosophy': 15, 'Objectivism': 3}\n"
     ]
    }
   ],
   "source": [
    "#copy the above code and change the dict name to subgenre and row number to the subgenre row 4 in books.csv\n",
    "books_subgenre = {}\n",
    "\n",
    "\n",
    "with open('bookloans.csv', 'r', encoding='utf-8-sig') as csv_bookloans_file:\n",
    "    loans_reader = csv.reader(csv_bookloans_file)\n",
    "    for row in loans_reader:\n",
    "        book_number = row[0]\n",
    "        try:\n",
    "            \n",
    "            book = books[book_number]\n",
    "            if book[4] in books_subgenre:\n",
    "                books_subgenre[book[4]] +=1\n",
    "            else:\n",
    "                books_subgenre[book[4]] = 1\n",
    "        except KeyError:\n",
    "            pass\n",
    "\n",
    "            \n",
    "# Sort the genre_counts dictionary by values in descending order\n",
    "sorted_genre_counts = sorted(books_subgenre.items(), key=lambda x: x[1], reverse=True)\n",
    "\n",
    "# Get the most popular genre\n",
    "most_popular_genre = sorted_genre_counts[0][0]\n",
    "\n",
    "#print(\"The most popular genre is:\", most_popular_genre)\n",
    "print(\"Subgenre Counts:\", dict(sorted_genre_counts)) #  a list of tuples, so get it back to dict "
   ]
  },
  {
   "cell_type": "markdown",
   "id": "0fd9451a",
   "metadata": {},
   "source": [
    "---\n",
    "---"
   ]
  },
  {
   "cell_type": "markdown",
   "id": "f56dfc36",
   "metadata": {},
   "source": [
    "# Task 3"
   ]
  },
  {
   "cell_type": "markdown",
   "id": "2804f8d9",
   "metadata": {},
   "source": [
    "1) Average number of days a book was borrowed."
   ]
  },
  {
   "cell_type": "code",
   "execution_count": 6,
   "id": "3dd78009",
   "metadata": {},
   "outputs": [
    {
     "name": "stdout",
     "output_type": "stream",
     "text": [
      "Overall Average Loan Days: 10\n"
     ]
    }
   ],
   "source": [
    "#create empty variables that will count the total_loan_days and total_loans\n",
    "total_loan_days = 0\n",
    "total_loans = 0\n",
    "\n",
    "\n",
    "with open('bookloans.csv', 'r', encoding='utf-8-sig') as csv_bookloans_file:\n",
    "    loans_reader = csv.reader(csv_bookloans_file)\n",
    "    for row in loans_reader:\n",
    "        book_number = row[0]\n",
    "        return_date = row[3]\n",
    "        start_date = row[2]\n",
    "        #convert the dates into integers or else you would not get the days difference\n",
    "        days = int(return_date) - int(start_date)\n",
    "        \n",
    "        #remove all books that haven't been returned and book_ids >120 and not in books.csv\n",
    "        if int(return_date) != 0 and int(book_number) <=120:\n",
    "            total_loan_days += days\n",
    "            total_loans += 1\n",
    "        \n",
    "        \n",
    "        \n",
    "#Calculate the overall average loan days for all books, and round to nearest integer.\n",
    "   \n",
    "overall_average_loan_days = round(total_loan_days / total_loans)\n",
    "    \n",
    "#print result into an f statment\n",
    "print(f\"Overall Average Loan Days: {overall_average_loan_days}\")"
   ]
  },
  {
   "cell_type": "markdown",
   "id": "922d2273",
   "metadata": {},
   "source": [
    "2) The overall % of books that were returned late."
   ]
  },
  {
   "cell_type": "code",
   "execution_count": 7,
   "id": "7c16f15c",
   "metadata": {},
   "outputs": [
    {
     "name": "stdout",
     "output_type": "stream",
     "text": [
      "Overall percentage of books returned over 14 days: 28.37%\n"
     ]
    }
   ],
   "source": [
    "#use of function to nest the calculation\n",
    "def calculate_return_percentage(bookloans_csv_file):\n",
    "    '''\n",
    "    The purpose of this function is to calculate and return the \n",
    "    overall average % of books that were returned late.\n",
    "    late being a borrow date of > 14 days.\n",
    "\n",
    "    '''\n",
    "    #comment out pass when you have finished creating the calculation required for the function\n",
    "    #pass\n",
    "    \n",
    "    # Read data from bookloans.csv and count books returned > 14 days.\n",
    "    books_returned_late = 0\n",
    "    books_returned = 0\n",
    "    with open(bookloans_csv_file, 'r', encoding='utf-8-sig') as csv_bookloans_file:\n",
    "        loans_reader = csv.reader(csv_bookloans_file)\n",
    "        for row in loans_reader:\n",
    "            book_number = row[0]\n",
    "            return_date = row[3]\n",
    "            start_date = row[2]\n",
    "            #convert the dates into integers or else you would not get the days difference\n",
    "            days = int(return_date) - int(start_date)\n",
    "            \n",
    "            #remove all books that haven't been returned and book_ids >120 and not in books.csv\n",
    "            if int(return_date) != 0 and int(book_number) <=120:\n",
    "                books_returned += 1\n",
    "                if days > 14:\n",
    "                    books_returned_late += 1\n",
    "\n",
    "    #Calculate the overall percentage and round to .2\n",
    "    average_late_books = round(((books_returned_late / books_returned) * 100),2)\n",
    "    #returns the value of the calculate_return_percentage function\n",
    "    return average_late_books\n",
    "  \n",
    "    \n",
    "# return function in a variable, and print the variable in the f statement\n",
    "\n",
    "bookloans_csv_file = 'bookloans.csv'\n",
    "average_late_books = calculate_return_percentage(bookloans_csv_file)\n",
    "print(f\"Overall percentage of books returned over 14 days: {average_late_books :.2f}%\")    "
   ]
  },
  {
   "cell_type": "markdown",
   "id": "39eb44bc",
   "metadata": {},
   "source": [
    "3) The average late period."
   ]
  },
  {
   "cell_type": "code",
   "execution_count": 8,
   "id": "950731e4",
   "metadata": {},
   "outputs": [
    {
     "name": "stdout",
     "output_type": "stream",
     "text": [
      "Overall average late period of books returned late: 17.00 days\n"
     ]
    }
   ],
   "source": [
    "#use of function to nest the calculation\n",
    "def calculate_average_late_period(bookloans_csv_file):\n",
    "    '''\n",
    "    The purpose of this function is to calculate and return the \n",
    "    value of the overall average late period of books that were borrowed.\n",
    "    late being a borrow date of > 14 days.\n",
    "\n",
    "    '''\n",
    "    #comment out pass when you have finished creating the calculation required for the function\n",
    "    #pass\n",
    "    \n",
    "    # Read data from bookloans.csv and count books returned > 14 days.\n",
    "    books_returned_late = 0\n",
    "    total_late_duration = 0\n",
    "    with open(bookloans_csv_file, 'r', encoding='utf-8-sig') as csv_bookloans_file:\n",
    "        loans_reader = csv.reader(csv_bookloans_file)\n",
    "        for row in loans_reader:\n",
    "            book_number = row[0]\n",
    "            return_date = row[3]\n",
    "            start_date = row[2]\n",
    "            #convert the dates into integers or else you would not get the days difference\n",
    "            days = int(return_date) - int(start_date)\n",
    "\n",
    "            #remove all books that haven't been returned and book_ids >120 and not in books.csv\n",
    "            if int(return_date) != 0 and int(book_number) <=120:\n",
    "\n",
    "                #nested if to calculte the late books and duration for each book\n",
    "                if days > 14:\n",
    "                    books_returned_late += 1\n",
    "                    total_late_duration += days\n",
    "\n",
    "#calculate the overall average based on the nested if fuction\n",
    "    avg_late_books = round((total_late_duration / books_returned_late))\n",
    "    #returns the value of the calculate_average_later_period function\n",
    "    return avg_late_books\n",
    "         \n",
    "\n",
    "# return function in a variable, and print the variable in the f statement\n",
    "\n",
    "bookloans_csv_file = 'bookloans.csv'\n",
    "avg_late_books = calculate_average_late_period(bookloans_csv_file)\n",
    "print(f\"Overall average late period of books returned late: {avg_late_books:.2f} days\")"
   ]
  },
  {
   "cell_type": "markdown",
   "id": "01397d67",
   "metadata": {},
   "source": [
    "---\n",
    "---"
   ]
  },
  {
   "cell_type": "markdown",
   "id": "d4fa3de0",
   "metadata": {},
   "source": [
    "# Assumptions"
   ]
  },
  {
   "cell_type": "markdown",
   "id": "50ecb133",
   "metadata": {},
   "source": [
    "* All bookloans with a retun date value of 0 was assumed to be still out on loan and therefore not returned. These books were disregarded in the program.\n",
    "\n",
    "* All bookloans book_id that were not present in the books.csv were disregarded and considered out of scope for the program as the book information was missing from books.csv.\n",
    "\n",
    "* After noting in task 1 that there was only 120 common book_ids between the books.csv and bookloans.csv. The program continues to work under this assumption in task 3 by hard coding the total number of books that should be included in the calculations."
   ]
  },
  {
   "cell_type": "markdown",
   "id": "04d81c1e",
   "metadata": {},
   "source": [
    "# Observations"
   ]
  },
  {
   "cell_type": "markdown",
   "id": "11e14ac7",
   "metadata": {},
   "source": [
    "* The bookloans.csv not having headers made it diffcult to easily call the data in the columns. This is something that should be added going forward in order to save time going back and forth and checking the correct row has been selected in the code.\n",
    "\n",
    "* Although stated that the bookloans.csv contains incorrect values, if there was more time, another option would be to create a new dictionary or list or nested dictionary / list that removed all values that did not have a return date, and had a book_id >120 since the books.csv only had 120 book_ids."
   ]
  }
 ],
 "metadata": {
  "kernelspec": {
   "display_name": "Python 3",
   "language": "python",
   "name": "python3"
  },
  "language_info": {
   "codemirror_mode": {
    "name": "ipython",
    "version": 3
   },
   "file_extension": ".py",
   "mimetype": "text/x-python",
   "name": "python",
   "nbconvert_exporter": "python",
   "pygments_lexer": "ipython3",
   "version": "3.8.8"
  }
 },
 "nbformat": 4,
 "nbformat_minor": 5
}
